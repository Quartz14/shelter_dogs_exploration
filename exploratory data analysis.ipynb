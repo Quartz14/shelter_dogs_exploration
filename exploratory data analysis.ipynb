{
 "cells": [
  {
   "cell_type": "code",
   "execution_count": 218,
   "metadata": {},
   "outputs": [],
   "source": [
    "import pandas as pd\n",
    "import numpy as np\n",
    "import matplotlib.pyplot as plt\n",
    "import seaborn as sns"
   ]
  },
  {
   "cell_type": "code",
   "execution_count": 242,
   "metadata": {},
   "outputs": [
    {
     "data": {
      "text/html": [
       "<div>\n",
       "<style scoped>\n",
       "    .dataframe tbody tr th:only-of-type {\n",
       "        vertical-align: middle;\n",
       "    }\n",
       "\n",
       "    .dataframe tbody tr th {\n",
       "        vertical-align: top;\n",
       "    }\n",
       "\n",
       "    .dataframe thead th {\n",
       "        text-align: right;\n",
       "    }\n",
       "</style>\n",
       "<table border=\"1\" class=\"dataframe\">\n",
       "  <thead>\n",
       "    <tr style=\"text-align: right;\">\n",
       "      <th></th>\n",
       "      <th>ID</th>\n",
       "      <th>name</th>\n",
       "      <th>age</th>\n",
       "      <th>sex</th>\n",
       "      <th>breed</th>\n",
       "      <th>date_found</th>\n",
       "      <th>adoptable_from</th>\n",
       "      <th>posted</th>\n",
       "      <th>color</th>\n",
       "      <th>coat</th>\n",
       "      <th>size</th>\n",
       "      <th>neutered</th>\n",
       "      <th>housebroken</th>\n",
       "      <th>likes_people</th>\n",
       "      <th>likes_children</th>\n",
       "      <th>get_along_males</th>\n",
       "      <th>get_along_females</th>\n",
       "      <th>get_along_cats</th>\n",
       "      <th>keep_in</th>\n",
       "    </tr>\n",
       "  </thead>\n",
       "  <tbody>\n",
       "    <tr>\n",
       "      <th>0</th>\n",
       "      <td>23807</td>\n",
       "      <td>Gida</td>\n",
       "      <td>0.25</td>\n",
       "      <td>female</td>\n",
       "      <td>Unknown Mix</td>\n",
       "      <td>2019-12-10</td>\n",
       "      <td>2019-12-11</td>\n",
       "      <td>2019-12-11</td>\n",
       "      <td>red</td>\n",
       "      <td>short</td>\n",
       "      <td>small</td>\n",
       "      <td>no</td>\n",
       "      <td>NaN</td>\n",
       "      <td>NaN</td>\n",
       "      <td>NaN</td>\n",
       "      <td>NaN</td>\n",
       "      <td>NaN</td>\n",
       "      <td>NaN</td>\n",
       "      <td>NaN</td>\n",
       "    </tr>\n",
       "    <tr>\n",
       "      <th>1</th>\n",
       "      <td>533</td>\n",
       "      <td>Frida És Ricsi</td>\n",
       "      <td>0.17</td>\n",
       "      <td>female</td>\n",
       "      <td>Unknown Mix</td>\n",
       "      <td>2019-12-01</td>\n",
       "      <td>2019-12-01</td>\n",
       "      <td>2019-12-09</td>\n",
       "      <td>black and white</td>\n",
       "      <td>short</td>\n",
       "      <td>small</td>\n",
       "      <td>no</td>\n",
       "      <td>NaN</td>\n",
       "      <td>yes</td>\n",
       "      <td>yes</td>\n",
       "      <td>yes</td>\n",
       "      <td>yes</td>\n",
       "      <td>yes</td>\n",
       "      <td>NaN</td>\n",
       "    </tr>\n",
       "    <tr>\n",
       "      <th>2</th>\n",
       "      <td>23793</td>\n",
       "      <td>NaN</td>\n",
       "      <td>4.00</td>\n",
       "      <td>male</td>\n",
       "      <td>Unknown Mix</td>\n",
       "      <td>2019-12-08</td>\n",
       "      <td>2019-12-23</td>\n",
       "      <td>2019-12-08</td>\n",
       "      <td>saddle back</td>\n",
       "      <td>short</td>\n",
       "      <td>medium</td>\n",
       "      <td>no</td>\n",
       "      <td>NaN</td>\n",
       "      <td>NaN</td>\n",
       "      <td>NaN</td>\n",
       "      <td>NaN</td>\n",
       "      <td>NaN</td>\n",
       "      <td>NaN</td>\n",
       "      <td>NaN</td>\n",
       "    </tr>\n",
       "    <tr>\n",
       "      <th>3</th>\n",
       "      <td>23795</td>\n",
       "      <td>NaN</td>\n",
       "      <td>1.00</td>\n",
       "      <td>male</td>\n",
       "      <td>Unknown Mix</td>\n",
       "      <td>2019-12-08</td>\n",
       "      <td>2019-12-23</td>\n",
       "      <td>2019-12-08</td>\n",
       "      <td>yellow-brown</td>\n",
       "      <td>medium</td>\n",
       "      <td>medium</td>\n",
       "      <td>no</td>\n",
       "      <td>NaN</td>\n",
       "      <td>NaN</td>\n",
       "      <td>NaN</td>\n",
       "      <td>NaN</td>\n",
       "      <td>NaN</td>\n",
       "      <td>NaN</td>\n",
       "      <td>NaN</td>\n",
       "    </tr>\n",
       "    <tr>\n",
       "      <th>4</th>\n",
       "      <td>23806</td>\n",
       "      <td>Amy</td>\n",
       "      <td>2.00</td>\n",
       "      <td>female</td>\n",
       "      <td>French Bulldog Mix</td>\n",
       "      <td>2019-12-10</td>\n",
       "      <td>2019-12-11</td>\n",
       "      <td>2019-12-11</td>\n",
       "      <td>black</td>\n",
       "      <td>short</td>\n",
       "      <td>small</td>\n",
       "      <td>no</td>\n",
       "      <td>NaN</td>\n",
       "      <td>NaN</td>\n",
       "      <td>NaN</td>\n",
       "      <td>NaN</td>\n",
       "      <td>NaN</td>\n",
       "      <td>NaN</td>\n",
       "      <td>NaN</td>\n",
       "    </tr>\n",
       "  </tbody>\n",
       "</table>\n",
       "</div>"
      ],
      "text/plain": [
       "      ID            name   age     sex               breed date_found  \\\n",
       "0  23807            Gida  0.25  female         Unknown Mix 2019-12-10   \n",
       "1    533  Frida És Ricsi  0.17  female         Unknown Mix 2019-12-01   \n",
       "2  23793             NaN  4.00    male         Unknown Mix 2019-12-08   \n",
       "3  23795             NaN  1.00    male         Unknown Mix 2019-12-08   \n",
       "4  23806             Amy  2.00  female  French Bulldog Mix 2019-12-10   \n",
       "\n",
       "  adoptable_from     posted            color    coat    size neutered  \\\n",
       "0     2019-12-11 2019-12-11              red   short   small       no   \n",
       "1     2019-12-01 2019-12-09  black and white   short   small       no   \n",
       "2     2019-12-23 2019-12-08      saddle back   short  medium       no   \n",
       "3     2019-12-23 2019-12-08     yellow-brown  medium  medium       no   \n",
       "4     2019-12-11 2019-12-11            black   short   small       no   \n",
       "\n",
       "  housebroken likes_people likes_children get_along_males get_along_females  \\\n",
       "0         NaN          NaN            NaN             NaN               NaN   \n",
       "1         NaN          yes            yes             yes               yes   \n",
       "2         NaN          NaN            NaN             NaN               NaN   \n",
       "3         NaN          NaN            NaN             NaN               NaN   \n",
       "4         NaN          NaN            NaN             NaN               NaN   \n",
       "\n",
       "  get_along_cats keep_in  \n",
       "0            NaN     NaN  \n",
       "1            yes     NaN  \n",
       "2            NaN     NaN  \n",
       "3            NaN     NaN  \n",
       "4            NaN     NaN  "
      ]
     },
     "execution_count": 242,
     "metadata": {},
     "output_type": "execute_result"
    }
   ],
   "source": [
    "df = pd.read_csv(\"ShelterDogs.csv\", parse_dates=['date_found','adoptable_from','posted'])\n",
    "df.head()"
   ]
  },
  {
   "cell_type": "markdown",
   "metadata": {},
   "source": [
    "* Upon obseving the columns it is found that ID, name are not relevent to the analysis"
   ]
  },
  {
   "cell_type": "code",
   "execution_count": 243,
   "metadata": {},
   "outputs": [
    {
     "data": {
      "text/plain": [
       "Index(['housebroken', 'likes_children', 'get_along_cats'], dtype='object')"
      ]
     },
     "execution_count": 243,
     "metadata": {},
     "output_type": "execute_result"
    }
   ],
   "source": [
    "df.columns[df.isna().mean()>0.5]"
   ]
  },
  {
   "cell_type": "code",
   "execution_count": 244,
   "metadata": {},
   "outputs": [],
   "source": [
    "#Since these columns have more than 50% of data missing, we drop them along with ID, name\n",
    "df_new = df.drop(['housebroken', 'likes_children', 'get_along_cats','ID','name'],axis=1)"
   ]
  },
  {
   "cell_type": "code",
   "execution_count": 245,
   "metadata": {},
   "outputs": [
    {
     "data": {
      "text/plain": [
       "Index(['neutered', 'likes_people', 'get_along_males', 'get_along_females',\n",
       "       'keep_in'],\n",
       "      dtype='object')"
      ]
     },
     "execution_count": 245,
     "metadata": {},
     "output_type": "execute_result"
    }
   ],
   "source": [
    "df_new.columns[df_new.isna().mean()>0.25]"
   ]
  },
  {
   "cell_type": "code",
   "execution_count": 246,
   "metadata": {},
   "outputs": [
    {
     "name": "stdout",
     "output_type": "stream",
     "text": [
      "(2937, 14)\n"
     ]
    },
    {
     "data": {
      "text/plain": [
       "(881, 14)"
      ]
     },
     "execution_count": 246,
     "metadata": {},
     "output_type": "execute_result"
    }
   ],
   "source": [
    "print(df_new.shape)\n",
    "df_new = df_new.dropna(axis=0) #dropping rows with nan values, as they dont help in the analysis\n",
    "df_new.shape"
   ]
  },
  {
   "cell_type": "code",
   "execution_count": 247,
   "metadata": {},
   "outputs": [
    {
     "data": {
      "text/html": [
       "<div>\n",
       "<style scoped>\n",
       "    .dataframe tbody tr th:only-of-type {\n",
       "        vertical-align: middle;\n",
       "    }\n",
       "\n",
       "    .dataframe tbody tr th {\n",
       "        vertical-align: top;\n",
       "    }\n",
       "\n",
       "    .dataframe thead th {\n",
       "        text-align: right;\n",
       "    }\n",
       "</style>\n",
       "<table border=\"1\" class=\"dataframe\">\n",
       "  <thead>\n",
       "    <tr style=\"text-align: right;\">\n",
       "      <th></th>\n",
       "      <th>age</th>\n",
       "      <th>sex</th>\n",
       "      <th>breed</th>\n",
       "      <th>date_found</th>\n",
       "      <th>adoptable_from</th>\n",
       "      <th>posted</th>\n",
       "      <th>color</th>\n",
       "      <th>coat</th>\n",
       "      <th>size</th>\n",
       "      <th>neutered</th>\n",
       "      <th>likes_people</th>\n",
       "      <th>get_along_males</th>\n",
       "      <th>get_along_females</th>\n",
       "      <th>keep_in</th>\n",
       "    </tr>\n",
       "  </thead>\n",
       "  <tbody>\n",
       "    <tr>\n",
       "      <th>9</th>\n",
       "      <td>0.17</td>\n",
       "      <td>female</td>\n",
       "      <td>Unknown Mix</td>\n",
       "      <td>2019-12-10</td>\n",
       "      <td>2019-12-10</td>\n",
       "      <td>2019-12-11</td>\n",
       "      <td>brown and white</td>\n",
       "      <td>short</td>\n",
       "      <td>small</td>\n",
       "      <td>no</td>\n",
       "      <td>yes</td>\n",
       "      <td>yes</td>\n",
       "      <td>yes</td>\n",
       "      <td>flat</td>\n",
       "    </tr>\n",
       "    <tr>\n",
       "      <th>13</th>\n",
       "      <td>0.17</td>\n",
       "      <td>male</td>\n",
       "      <td>Unknown Mix</td>\n",
       "      <td>2019-12-10</td>\n",
       "      <td>2019-12-10</td>\n",
       "      <td>2019-12-11</td>\n",
       "      <td>tricolor</td>\n",
       "      <td>short</td>\n",
       "      <td>small</td>\n",
       "      <td>no</td>\n",
       "      <td>yes</td>\n",
       "      <td>yes</td>\n",
       "      <td>yes</td>\n",
       "      <td>flat</td>\n",
       "    </tr>\n",
       "    <tr>\n",
       "      <th>16</th>\n",
       "      <td>0.17</td>\n",
       "      <td>female</td>\n",
       "      <td>Unknown Mix</td>\n",
       "      <td>2019-12-10</td>\n",
       "      <td>2019-12-10</td>\n",
       "      <td>2019-12-11</td>\n",
       "      <td>tricolor</td>\n",
       "      <td>short</td>\n",
       "      <td>small</td>\n",
       "      <td>no</td>\n",
       "      <td>yes</td>\n",
       "      <td>yes</td>\n",
       "      <td>yes</td>\n",
       "      <td>flat</td>\n",
       "    </tr>\n",
       "    <tr>\n",
       "      <th>17</th>\n",
       "      <td>0.83</td>\n",
       "      <td>male</td>\n",
       "      <td>Unknown Mix</td>\n",
       "      <td>2019-12-05</td>\n",
       "      <td>2019-12-05</td>\n",
       "      <td>2019-12-09</td>\n",
       "      <td>black</td>\n",
       "      <td>wirehaired</td>\n",
       "      <td>small</td>\n",
       "      <td>yes</td>\n",
       "      <td>yes</td>\n",
       "      <td>yes</td>\n",
       "      <td>yes</td>\n",
       "      <td>both flat and garden</td>\n",
       "    </tr>\n",
       "    <tr>\n",
       "      <th>29</th>\n",
       "      <td>2.42</td>\n",
       "      <td>male</td>\n",
       "      <td>Hungarian Vizsla</td>\n",
       "      <td>2019-12-07</td>\n",
       "      <td>2019-12-07</td>\n",
       "      <td>2019-12-07</td>\n",
       "      <td>brown</td>\n",
       "      <td>short</td>\n",
       "      <td>medium</td>\n",
       "      <td>no</td>\n",
       "      <td>yes</td>\n",
       "      <td>yes</td>\n",
       "      <td>yes</td>\n",
       "      <td>both flat and garden</td>\n",
       "    </tr>\n",
       "  </tbody>\n",
       "</table>\n",
       "</div>"
      ],
      "text/plain": [
       "     age     sex             breed date_found adoptable_from     posted  \\\n",
       "9   0.17  female       Unknown Mix 2019-12-10     2019-12-10 2019-12-11   \n",
       "13  0.17    male       Unknown Mix 2019-12-10     2019-12-10 2019-12-11   \n",
       "16  0.17  female       Unknown Mix 2019-12-10     2019-12-10 2019-12-11   \n",
       "17  0.83    male       Unknown Mix 2019-12-05     2019-12-05 2019-12-09   \n",
       "29  2.42    male  Hungarian Vizsla 2019-12-07     2019-12-07 2019-12-07   \n",
       "\n",
       "              color        coat    size neutered likes_people get_along_males  \\\n",
       "9   brown and white       short   small       no          yes             yes   \n",
       "13         tricolor       short   small       no          yes             yes   \n",
       "16         tricolor       short   small       no          yes             yes   \n",
       "17            black  wirehaired   small      yes          yes             yes   \n",
       "29            brown       short  medium       no          yes             yes   \n",
       "\n",
       "   get_along_females               keep_in  \n",
       "9                yes                  flat  \n",
       "13               yes                  flat  \n",
       "16               yes                  flat  \n",
       "17               yes  both flat and garden  \n",
       "29               yes  both flat and garden  "
      ]
     },
     "execution_count": 247,
     "metadata": {},
     "output_type": "execute_result"
    }
   ],
   "source": [
    "df_new.head()"
   ]
  },
  {
   "cell_type": "code",
   "execution_count": 248,
   "metadata": {},
   "outputs": [
    {
     "data": {
      "text/plain": [
       "age                         float64\n",
       "sex                          object\n",
       "breed                        object\n",
       "date_found           datetime64[ns]\n",
       "adoptable_from       datetime64[ns]\n",
       "posted               datetime64[ns]\n",
       "color                        object\n",
       "coat                         object\n",
       "size                         object\n",
       "neutered                     object\n",
       "likes_people                 object\n",
       "get_along_males              object\n",
       "get_along_females            object\n",
       "keep_in                      object\n",
       "dtype: object"
      ]
     },
     "execution_count": 248,
     "metadata": {},
     "output_type": "execute_result"
    }
   ],
   "source": [
    "df_new.dtypes"
   ]
  },
  {
   "cell_type": "code",
   "execution_count": 249,
   "metadata": {},
   "outputs": [
    {
     "name": "stdout",
     "output_type": "stream",
     "text": [
      "sex ['female' 'male']\n",
      "breed ['Unknown Mix' 'Hungarian Vizsla' 'Fox Terrier Mix'\n",
      " 'Hungarian Vizsla, Staffordshire Terrier Mix' 'Terrier Mix'\n",
      " 'Staffordshire Terrier Mix'\n",
      " 'German Shepherd Dog, Staffordshire Terrier Mix' 'Dachshund Mix'\n",
      " 'Dachshund, Fox Terrier Mix' 'Beagle, Hound Mix'\n",
      " 'Dachshund, German Shepherd Dog Mix' 'Norfolk Terrier Mix'\n",
      " 'Greyhound Mix' 'Bull Terrier Mix' 'Puli Mix' 'German Shepherd Dog Mix'\n",
      " 'Border Collie Mix' 'Labrador Retriever Mix' 'English Greyhound Mix'\n",
      " 'Golden Retriever Mix' 'Poodle Mix' 'German Pointer' 'Pinscher Mix'\n",
      " 'Chihuahua Mix' 'Labrador Retriever, Poodle Mix' 'Komondor'\n",
      " 'Chinese Shar-Pei' 'Pekingese, Tibetan Spaniel Mix' 'Rottweiler Mix'\n",
      " 'Scotch Collie' 'Siberian Husky Mix'\n",
      " 'Bearded Collie, Labrador Retriever Mix'\n",
      " 'Greyhound, Hungarian Greyhound Mix'\n",
      " 'Australian Shepherd, Labrador Retriever Mix' 'Yorkshire Terrier'\n",
      " 'Belgian Malinois, German Shepherd Dog Mix' 'Dachshund'\n",
      " 'German Shepherd Dog, Greyhound Mix' 'Akita'\n",
      " 'German Shepherd Dog, Siberian Husky Mix' 'Schnauzer Mix'\n",
      " 'Caucasian Ovtcharka, German Shepherd Dog Mix' 'Chinese Shar-Pei Mix'\n",
      " 'Beagle Mix' 'American Bulldog Mix' 'French Bulldog'\n",
      " 'Fox Terrier, Staffordshire Terrier Mix' 'Greyhound'\n",
      " 'German Shepherd Dog, Transylvanian Hound Mix' 'Puli, Pumi Mix'\n",
      " 'Central Asian Ovtcharka Mix' 'Mastiff Mix' 'German Shepherd Dog'\n",
      " 'Hungarian Vizsla, Labrador Retriever Mix' 'Akita Mix' 'Mudi'\n",
      " 'German Pointer Mix' 'Azawakh, Hungarian Greyhound Mix'\n",
      " 'Kuvasz, Pumi Mix' 'Vizsla Mix' 'Greyhound, Labrador Retriever Mix'\n",
      " 'Belgian Malinois, Labrador Retriever Mix'\n",
      " 'Dachshund, Jack Russell Terrier Mix' 'Belgian Sheepdog Mix' 'Puli'\n",
      " 'German Shepherd Dog, Labrador Retriever Mix'\n",
      " 'Dachshund, German Shepherd Dog, Labrador Retriever Mix'\n",
      " 'Newfoundland Mix' 'Afghan Hound'\n",
      " 'Bearded Collie, Staffordshire Terrier Mix' 'Pekingese Mix'\n",
      " 'Dachshund, English Cocker Spaniel, Whippet Mix' 'Belgian Malinois Mix'\n",
      " 'Pumi Mix' 'Schnauzer, Spaniel Mix' 'Cane Corso'\n",
      " 'Belgian Malinois, Greyhound Mix' 'Staffordshire Terrier'\n",
      " 'Old German Shepherd' 'Setter Mix' 'Caucasian Ovtcharka'\n",
      " 'Labrador Retriever' 'Dachshund, Pekingese Mix' 'English Cocker Spaniel'\n",
      " 'Bull Terrier, Fox Terrier, Staffordshire Terrier Mix'\n",
      " 'Greyhound, Transylvanian Hound Mix' 'Caucasian Ovtcharka Mix'\n",
      " 'Boxer Mix' 'Kuvasz, Labrador Retriever Mix' 'Hound, Vizsla Mix'\n",
      " 'Hound Mix' 'Hound, Staffordshire Terrier Mix' 'Dogo Argentino'\n",
      " 'Jack Russell Terrier' 'German Shepherd Dog, Schnauzer Mix'\n",
      " 'Dachshund, Labrador Retriever Mix' 'Golden Retriever'\n",
      " 'Schnauzer, Terrier Mix' 'Boxer, Staffordshire Terrier Mix'\n",
      " 'Pumi, Schnauzer Mix' 'Fox Terrier, Whippet Mix' 'Boxer'\n",
      " 'Labrador Retriever, Staffordshire Terrier Mix' 'Bolognese, Puli Mix'\n",
      " 'Kuvasz' 'Bernese Mountain Dog, Dachshund Mix'\n",
      " 'American Pit Bull Terrier, Staffordshire Terrier Mix' 'Doberman Mix'\n",
      " 'German Shepherd Dog, Labrador Retriever, Staffordshire Terrier Mix'\n",
      " 'Labrador Retriever, Rhodesian Ridgeback Mix' 'Fox Terrier'\n",
      " 'Chinese Shar-Pei, Labrador Retriever Mix'\n",
      " 'Belgian Sheepdog, German Shepherd Dog Mix'\n",
      " 'Bolognese, Havanese, Maltese' 'Havanese, Puli, Pumi Mix' 'Rottweiler'\n",
      " 'Mudi Mix' 'Golden Retriever, Kuvasz Mix' 'Adoptable From:'\n",
      " 'Chihuahua, Dachshund, Pinscher Mix' 'Miniature Schnauzer Mix'\n",
      " 'Welsh Terrier Mix' 'Fox Terrier, Schnauzer Mix'\n",
      " 'German Shepherd Dog, Pumi Mix' 'Chow Chow Mix'\n",
      " 'Australian Cattle Dog, German Shepherd Dog Mix' 'Puli, Schnauzer Mix'\n",
      " 'Hound, Labrador Retriever Mix' 'Spaniel Mix' 'Jagd Terrier Mix'\n",
      " 'Doberman, Greyhound, Labrador Retriever Mix'\n",
      " 'Parson Russell Terrier Mix' 'German Shepherd Dog, Hound Mix'\n",
      " 'Belgian Sheepdog, Mudi Mix' 'Fox Terrier, Pekingese Mix'\n",
      " 'Fox Terrier, Jagd Terrier Mix' 'German Pointer, Vizsla Mix'\n",
      " 'Transylvanian Hound Mix' 'Labrador Retriever, Vizsla Mix'\n",
      " 'Vizsla, Whippet Mix' 'Bull Terrier, Hungarian Greyhound Mix'\n",
      " 'German Shepherd Dog, Pinscher, Siberian Husky Mix'\n",
      " 'Rhodesian Ridgeback Mix' 'Bearded Collie Mix' 'Hungarian Vizsla Mix'\n",
      " 'Collie Mix' 'Old German Shepherd Mix' 'Russian Laikas Mix'\n",
      " 'Scotch Collie Mix' 'Dachshund, Setter Mix' 'Dalmatian Mix' 'Spitz'\n",
      " 'Pointer Mix' 'English Bloodhound, German Shepherd Dog Mix']\n",
      "color ['brown and white' 'tricolor' 'black' 'brown' 'black and white' 'yellow'\n",
      " 'yellow-brown' 'wild boar' 'black and brown' 'apricot' 'gray and black'\n",
      " 'striped' 'white' 'gray' 'red and white' 'saddle back' 'black and tan'\n",
      " 'red' 'spotty' 'gray and white' 'sable' 'golden']\n",
      "coat ['short' 'wirehaired' 'medium' 'long']\n",
      "size ['small' 'medium' 'large']\n",
      "neutered ['no' 'yes']\n",
      "likes_people ['yes' 'no']\n",
      "get_along_males ['yes' 'no']\n",
      "get_along_females ['yes' 'no']\n",
      "keep_in ['flat' 'both flat and garden' 'garden']\n"
     ]
    }
   ],
   "source": [
    "for col in df_new.columns:\n",
    "    if(df_new[col].dtype==object):\n",
    "        print(col, df_new[col].unique())"
   ]
  },
  {
   "cell_type": "markdown",
   "metadata": {},
   "source": [
    "* On observing the values:\n",
    "    * neutered, likes_people, get_along_males, get_along_females can be converted to boolean values\n",
    "    * coat, size,color,sex, keep_in are categories\n",
    "    * breed, name are mostly unique\n",
    "   \n",
    "Convert the yes/no to boolean values for easier processing"
   ]
  },
  {
   "cell_type": "code",
   "execution_count": 250,
   "metadata": {},
   "outputs": [
    {
     "data": {
      "text/html": [
       "<div>\n",
       "<style scoped>\n",
       "    .dataframe tbody tr th:only-of-type {\n",
       "        vertical-align: middle;\n",
       "    }\n",
       "\n",
       "    .dataframe tbody tr th {\n",
       "        vertical-align: top;\n",
       "    }\n",
       "\n",
       "    .dataframe thead th {\n",
       "        text-align: right;\n",
       "    }\n",
       "</style>\n",
       "<table border=\"1\" class=\"dataframe\">\n",
       "  <thead>\n",
       "    <tr style=\"text-align: right;\">\n",
       "      <th></th>\n",
       "      <th>age</th>\n",
       "      <th>sex</th>\n",
       "      <th>breed</th>\n",
       "      <th>date_found</th>\n",
       "      <th>adoptable_from</th>\n",
       "      <th>posted</th>\n",
       "      <th>color</th>\n",
       "      <th>coat</th>\n",
       "      <th>size</th>\n",
       "      <th>neutered</th>\n",
       "      <th>likes_people</th>\n",
       "      <th>get_along_males</th>\n",
       "      <th>get_along_females</th>\n",
       "      <th>keep_in</th>\n",
       "    </tr>\n",
       "  </thead>\n",
       "  <tbody>\n",
       "    <tr>\n",
       "      <th>9</th>\n",
       "      <td>0.17</td>\n",
       "      <td>female</td>\n",
       "      <td>Unknown Mix</td>\n",
       "      <td>2019-12-10</td>\n",
       "      <td>2019-12-10</td>\n",
       "      <td>2019-12-11</td>\n",
       "      <td>brown and white</td>\n",
       "      <td>short</td>\n",
       "      <td>small</td>\n",
       "      <td>False</td>\n",
       "      <td>True</td>\n",
       "      <td>True</td>\n",
       "      <td>True</td>\n",
       "      <td>flat</td>\n",
       "    </tr>\n",
       "    <tr>\n",
       "      <th>13</th>\n",
       "      <td>0.17</td>\n",
       "      <td>male</td>\n",
       "      <td>Unknown Mix</td>\n",
       "      <td>2019-12-10</td>\n",
       "      <td>2019-12-10</td>\n",
       "      <td>2019-12-11</td>\n",
       "      <td>tricolor</td>\n",
       "      <td>short</td>\n",
       "      <td>small</td>\n",
       "      <td>False</td>\n",
       "      <td>True</td>\n",
       "      <td>True</td>\n",
       "      <td>True</td>\n",
       "      <td>flat</td>\n",
       "    </tr>\n",
       "    <tr>\n",
       "      <th>16</th>\n",
       "      <td>0.17</td>\n",
       "      <td>female</td>\n",
       "      <td>Unknown Mix</td>\n",
       "      <td>2019-12-10</td>\n",
       "      <td>2019-12-10</td>\n",
       "      <td>2019-12-11</td>\n",
       "      <td>tricolor</td>\n",
       "      <td>short</td>\n",
       "      <td>small</td>\n",
       "      <td>False</td>\n",
       "      <td>True</td>\n",
       "      <td>True</td>\n",
       "      <td>True</td>\n",
       "      <td>flat</td>\n",
       "    </tr>\n",
       "    <tr>\n",
       "      <th>17</th>\n",
       "      <td>0.83</td>\n",
       "      <td>male</td>\n",
       "      <td>Unknown Mix</td>\n",
       "      <td>2019-12-05</td>\n",
       "      <td>2019-12-05</td>\n",
       "      <td>2019-12-09</td>\n",
       "      <td>black</td>\n",
       "      <td>wirehaired</td>\n",
       "      <td>small</td>\n",
       "      <td>True</td>\n",
       "      <td>True</td>\n",
       "      <td>True</td>\n",
       "      <td>True</td>\n",
       "      <td>both flat and garden</td>\n",
       "    </tr>\n",
       "    <tr>\n",
       "      <th>29</th>\n",
       "      <td>2.42</td>\n",
       "      <td>male</td>\n",
       "      <td>Hungarian Vizsla</td>\n",
       "      <td>2019-12-07</td>\n",
       "      <td>2019-12-07</td>\n",
       "      <td>2019-12-07</td>\n",
       "      <td>brown</td>\n",
       "      <td>short</td>\n",
       "      <td>medium</td>\n",
       "      <td>False</td>\n",
       "      <td>True</td>\n",
       "      <td>True</td>\n",
       "      <td>True</td>\n",
       "      <td>both flat and garden</td>\n",
       "    </tr>\n",
       "  </tbody>\n",
       "</table>\n",
       "</div>"
      ],
      "text/plain": [
       "     age     sex             breed date_found adoptable_from     posted  \\\n",
       "9   0.17  female       Unknown Mix 2019-12-10     2019-12-10 2019-12-11   \n",
       "13  0.17    male       Unknown Mix 2019-12-10     2019-12-10 2019-12-11   \n",
       "16  0.17  female       Unknown Mix 2019-12-10     2019-12-10 2019-12-11   \n",
       "17  0.83    male       Unknown Mix 2019-12-05     2019-12-05 2019-12-09   \n",
       "29  2.42    male  Hungarian Vizsla 2019-12-07     2019-12-07 2019-12-07   \n",
       "\n",
       "              color        coat    size  neutered  likes_people  \\\n",
       "9   brown and white       short   small     False          True   \n",
       "13         tricolor       short   small     False          True   \n",
       "16         tricolor       short   small     False          True   \n",
       "17            black  wirehaired   small      True          True   \n",
       "29            brown       short  medium     False          True   \n",
       "\n",
       "    get_along_males  get_along_females               keep_in  \n",
       "9              True               True                  flat  \n",
       "13             True               True                  flat  \n",
       "16             True               True                  flat  \n",
       "17             True               True  both flat and garden  \n",
       "29             True               True  both flat and garden  "
      ]
     },
     "execution_count": 250,
     "metadata": {},
     "output_type": "execute_result"
    }
   ],
   "source": [
    "df_new = df_new.replace({'no': 0, 'yes':1})\n",
    "df_new['neutered'] = df_new['neutered'].astype('bool')\n",
    "df_new['likes_people'] = df_new['likes_people'].astype('bool')\n",
    "df_new['get_along_males'] = df_new['get_along_males'].astype('bool')\n",
    "df_new['get_along_females'] = df_new['get_along_females'].astype('bool')\n",
    "\n",
    "df_new.head()"
   ]
  },
  {
   "cell_type": "code",
   "execution_count": 251,
   "metadata": {},
   "outputs": [
    {
     "data": {
      "text/html": [
       "<div>\n",
       "<style scoped>\n",
       "    .dataframe tbody tr th:only-of-type {\n",
       "        vertical-align: middle;\n",
       "    }\n",
       "\n",
       "    .dataframe tbody tr th {\n",
       "        vertical-align: top;\n",
       "    }\n",
       "\n",
       "    .dataframe thead th {\n",
       "        text-align: right;\n",
       "    }\n",
       "</style>\n",
       "<table border=\"1\" class=\"dataframe\">\n",
       "  <thead>\n",
       "    <tr style=\"text-align: right;\">\n",
       "      <th></th>\n",
       "      <th>age</th>\n",
       "      <th>breed</th>\n",
       "      <th>date_found</th>\n",
       "      <th>adoptable_from</th>\n",
       "      <th>posted</th>\n",
       "      <th>color</th>\n",
       "      <th>neutered</th>\n",
       "      <th>likes_people</th>\n",
       "      <th>get_along_males</th>\n",
       "      <th>get_along_females</th>\n",
       "      <th>...</th>\n",
       "      <th>coat_short</th>\n",
       "      <th>coat_wirehaired</th>\n",
       "      <th>size_large</th>\n",
       "      <th>size_medium</th>\n",
       "      <th>size_small</th>\n",
       "      <th>keep_in_both flat and garden</th>\n",
       "      <th>keep_in_flat</th>\n",
       "      <th>keep_in_garden</th>\n",
       "      <th>sex_female</th>\n",
       "      <th>sex_male</th>\n",
       "    </tr>\n",
       "  </thead>\n",
       "  <tbody>\n",
       "    <tr>\n",
       "      <th>9</th>\n",
       "      <td>0.17</td>\n",
       "      <td>Unknown Mix</td>\n",
       "      <td>2019-12-10</td>\n",
       "      <td>2019-12-10</td>\n",
       "      <td>2019-12-11</td>\n",
       "      <td>brown and white</td>\n",
       "      <td>False</td>\n",
       "      <td>True</td>\n",
       "      <td>True</td>\n",
       "      <td>True</td>\n",
       "      <td>...</td>\n",
       "      <td>1</td>\n",
       "      <td>0</td>\n",
       "      <td>0</td>\n",
       "      <td>0</td>\n",
       "      <td>1</td>\n",
       "      <td>0</td>\n",
       "      <td>1</td>\n",
       "      <td>0</td>\n",
       "      <td>1</td>\n",
       "      <td>0</td>\n",
       "    </tr>\n",
       "    <tr>\n",
       "      <th>13</th>\n",
       "      <td>0.17</td>\n",
       "      <td>Unknown Mix</td>\n",
       "      <td>2019-12-10</td>\n",
       "      <td>2019-12-10</td>\n",
       "      <td>2019-12-11</td>\n",
       "      <td>tricolor</td>\n",
       "      <td>False</td>\n",
       "      <td>True</td>\n",
       "      <td>True</td>\n",
       "      <td>True</td>\n",
       "      <td>...</td>\n",
       "      <td>1</td>\n",
       "      <td>0</td>\n",
       "      <td>0</td>\n",
       "      <td>0</td>\n",
       "      <td>1</td>\n",
       "      <td>0</td>\n",
       "      <td>1</td>\n",
       "      <td>0</td>\n",
       "      <td>0</td>\n",
       "      <td>1</td>\n",
       "    </tr>\n",
       "    <tr>\n",
       "      <th>16</th>\n",
       "      <td>0.17</td>\n",
       "      <td>Unknown Mix</td>\n",
       "      <td>2019-12-10</td>\n",
       "      <td>2019-12-10</td>\n",
       "      <td>2019-12-11</td>\n",
       "      <td>tricolor</td>\n",
       "      <td>False</td>\n",
       "      <td>True</td>\n",
       "      <td>True</td>\n",
       "      <td>True</td>\n",
       "      <td>...</td>\n",
       "      <td>1</td>\n",
       "      <td>0</td>\n",
       "      <td>0</td>\n",
       "      <td>0</td>\n",
       "      <td>1</td>\n",
       "      <td>0</td>\n",
       "      <td>1</td>\n",
       "      <td>0</td>\n",
       "      <td>1</td>\n",
       "      <td>0</td>\n",
       "    </tr>\n",
       "    <tr>\n",
       "      <th>17</th>\n",
       "      <td>0.83</td>\n",
       "      <td>Unknown Mix</td>\n",
       "      <td>2019-12-05</td>\n",
       "      <td>2019-12-05</td>\n",
       "      <td>2019-12-09</td>\n",
       "      <td>black</td>\n",
       "      <td>True</td>\n",
       "      <td>True</td>\n",
       "      <td>True</td>\n",
       "      <td>True</td>\n",
       "      <td>...</td>\n",
       "      <td>0</td>\n",
       "      <td>1</td>\n",
       "      <td>0</td>\n",
       "      <td>0</td>\n",
       "      <td>1</td>\n",
       "      <td>1</td>\n",
       "      <td>0</td>\n",
       "      <td>0</td>\n",
       "      <td>0</td>\n",
       "      <td>1</td>\n",
       "    </tr>\n",
       "    <tr>\n",
       "      <th>29</th>\n",
       "      <td>2.42</td>\n",
       "      <td>Hungarian Vizsla</td>\n",
       "      <td>2019-12-07</td>\n",
       "      <td>2019-12-07</td>\n",
       "      <td>2019-12-07</td>\n",
       "      <td>brown</td>\n",
       "      <td>False</td>\n",
       "      <td>True</td>\n",
       "      <td>True</td>\n",
       "      <td>True</td>\n",
       "      <td>...</td>\n",
       "      <td>1</td>\n",
       "      <td>0</td>\n",
       "      <td>0</td>\n",
       "      <td>1</td>\n",
       "      <td>0</td>\n",
       "      <td>1</td>\n",
       "      <td>0</td>\n",
       "      <td>0</td>\n",
       "      <td>0</td>\n",
       "      <td>1</td>\n",
       "    </tr>\n",
       "  </tbody>\n",
       "</table>\n",
       "<p>5 rows × 22 columns</p>\n",
       "</div>"
      ],
      "text/plain": [
       "     age             breed date_found adoptable_from     posted  \\\n",
       "9   0.17       Unknown Mix 2019-12-10     2019-12-10 2019-12-11   \n",
       "13  0.17       Unknown Mix 2019-12-10     2019-12-10 2019-12-11   \n",
       "16  0.17       Unknown Mix 2019-12-10     2019-12-10 2019-12-11   \n",
       "17  0.83       Unknown Mix 2019-12-05     2019-12-05 2019-12-09   \n",
       "29  2.42  Hungarian Vizsla 2019-12-07     2019-12-07 2019-12-07   \n",
       "\n",
       "              color  neutered  likes_people  get_along_males  \\\n",
       "9   brown and white     False          True             True   \n",
       "13         tricolor     False          True             True   \n",
       "16         tricolor     False          True             True   \n",
       "17            black      True          True             True   \n",
       "29            brown     False          True             True   \n",
       "\n",
       "    get_along_females  ...  coat_short  coat_wirehaired  size_large  \\\n",
       "9                True  ...           1                0           0   \n",
       "13               True  ...           1                0           0   \n",
       "16               True  ...           1                0           0   \n",
       "17               True  ...           0                1           0   \n",
       "29               True  ...           1                0           0   \n",
       "\n",
       "    size_medium  size_small  keep_in_both flat and garden  keep_in_flat  \\\n",
       "9             0           1                             0             1   \n",
       "13            0           1                             0             1   \n",
       "16            0           1                             0             1   \n",
       "17            0           1                             1             0   \n",
       "29            1           0                             1             0   \n",
       "\n",
       "    keep_in_garden  sex_female  sex_male  \n",
       "9                0           1         0  \n",
       "13               0           0         1  \n",
       "16               0           1         0  \n",
       "17               0           0         1  \n",
       "29               0           0         1  \n",
       "\n",
       "[5 rows x 22 columns]"
      ]
     },
     "execution_count": 251,
     "metadata": {},
     "output_type": "execute_result"
    }
   ],
   "source": [
    "df_new_cor = pd.get_dummies(df_new,prefix= ['coat','size','keep_in','sex'], columns=['coat','size','keep_in','sex'])\n",
    "df_new_cor.head()"
   ]
  },
  {
   "cell_type": "code",
   "execution_count": 252,
   "metadata": {},
   "outputs": [
    {
     "data": {
      "image/png": "[encoded data removed]",
      "text/plain": [
       "<Figure size 720x720 with 2 Axes>"
      ]
     },
     "metadata": {
      "needs_background": "light"
     },
     "output_type": "display_data"
    }
   ],
   "source": [
    "corrMatrix = df_new_cor[['age',\n",
    "       'neutered', 'likes_people',\n",
    "       'coat_long', 'coat_medium', 'coat_short', 'coat_wirehaired',\n",
    "       'size_large', 'size_medium', 'size_small', \n",
    "       'sex_female', 'sex_male',\n",
    "       'keep_in_both flat and garden', 'keep_in_flat', 'keep_in_garden']].corr()\n",
    "fig, ax = plt.subplots(figsize=(10,10)) \n",
    "sns.heatmap(corrMatrix, annot=True, ax=ax, fmt='.1f')\n",
    "plt.show()"
   ]
  },
  {
   "cell_type": "markdown",
   "metadata": {},
   "source": [
    "* short coat and medium coat seems to be negatively correlated, similar pattern observed in medium and large size dogs\n",
    "* keep in garden and keep in both flat and garden seems to have a strong negative correlation\n",
    "\n",
    "### Lets see the distribution of color in shelter dogs"
   ]
  },
  {
   "cell_type": "code",
   "execution_count": 253,
   "metadata": {},
   "outputs": [
    {
     "data": {
      "text/plain": [
       "<matplotlib.axes._subplots.AxesSubplot at 0x25b70ee2808>"
      ]
     },
     "execution_count": 253,
     "metadata": {},
     "output_type": "execute_result"
    },
    {
     "data": {
      "image/png": "[encoded data removed]",
      "text/plain": [
       "<Figure size 432x288 with 1 Axes>"
      ]
     },
     "metadata": {
      "needs_background": "light"
     },
     "output_type": "display_data"
    }
   ],
   "source": [
    "df_new['color'].value_counts().sort_values().plot(kind = 'barh')"
   ]
  },
  {
   "cell_type": "markdown",
   "metadata": {},
   "source": [
    "* Upon observing the plot, its clear that majority of dogs in this shelter are black in color, followed by shades of black and brown.\n",
    "* Lets find out if this is because black dogs are more common, or if there is some underlying reason.\n",
    "  A quick google search indicates that the most common colors are black, brown and white, while red are rare. So this distribution is normal."
   ]
  },
  {
   "cell_type": "markdown",
   "metadata": {},
   "source": [
    "### Question 1: Do neutered dogs get along with people more?"
   ]
  },
  {
   "cell_type": "code",
   "execution_count": 254,
   "metadata": {},
   "outputs": [
    {
     "name": "stdout",
     "output_type": "stream",
     "text": [
      "likes_people\n",
      "False             5\n",
      "True            876\n",
      "dtype: int64\n"
     ]
    },
    {
     "data": {
      "text/html": [
       "<style  type=\"text/css\" >\n",
       "#T_69f4672e_3477_11eb_b8d8_98fa9b3531c7row0_col0,#T_69f4672e_3477_11eb_b8d8_98fa9b3531c7row0_col1,#T_69f4672e_3477_11eb_b8d8_98fa9b3531c7row0_col2,#T_69f4672e_3477_11eb_b8d8_98fa9b3531c7row0_col3{\n",
       "            background-color:  #fff6e5;\n",
       "            color:  #000000;\n",
       "        }#T_69f4672e_3477_11eb_b8d8_98fa9b3531c7row1_col0,#T_69f4672e_3477_11eb_b8d8_98fa9b3531c7row1_col1,#T_69f4672e_3477_11eb_b8d8_98fa9b3531c7row1_col2,#T_69f4672e_3477_11eb_b8d8_98fa9b3531c7row1_col3{\n",
       "            background-color:  #ffa500;\n",
       "            color:  #000000;\n",
       "        }</style><table id=\"T_69f4672e_3477_11eb_b8d8_98fa9b3531c7\" ><thead>    <tr>        <th class=\"index_name level0\" >sex</th>        <th class=\"col_heading level0 col0\" colspan=2>female</th>        <th class=\"col_heading level0 col2\" colspan=2>male</th>    </tr>    <tr>        <th class=\"index_name level1\" >neutered</th>        <th class=\"col_heading level1 col0\" >False</th>        <th class=\"col_heading level1 col1\" >True</th>        <th class=\"col_heading level1 col2\" >False</th>        <th class=\"col_heading level1 col3\" >True</th>    </tr>    <tr>        <th class=\"index_name level0\" >likes_people</th>        <th class=\"blank\" ></th>        <th class=\"blank\" ></th>        <th class=\"blank\" ></th>        <th class=\"blank\" ></th>    </tr></thead><tbody>\n",
       "                <tr>\n",
       "                        <th id=\"T_69f4672e_3477_11eb_b8d8_98fa9b3531c7level0_row0\" class=\"row_heading level0 row0\" >False</th>\n",
       "                        <td id=\"T_69f4672e_3477_11eb_b8d8_98fa9b3531c7row0_col0\" class=\"data row0 col0\" >0</td>\n",
       "                        <td id=\"T_69f4672e_3477_11eb_b8d8_98fa9b3531c7row0_col1\" class=\"data row0 col1\" >1</td>\n",
       "                        <td id=\"T_69f4672e_3477_11eb_b8d8_98fa9b3531c7row0_col2\" class=\"data row0 col2\" >3</td>\n",
       "                        <td id=\"T_69f4672e_3477_11eb_b8d8_98fa9b3531c7row0_col3\" class=\"data row0 col3\" >1</td>\n",
       "            </tr>\n",
       "            <tr>\n",
       "                        <th id=\"T_69f4672e_3477_11eb_b8d8_98fa9b3531c7level0_row1\" class=\"row_heading level0 row1\" >True</th>\n",
       "                        <td id=\"T_69f4672e_3477_11eb_b8d8_98fa9b3531c7row1_col0\" class=\"data row1 col0\" >85</td>\n",
       "                        <td id=\"T_69f4672e_3477_11eb_b8d8_98fa9b3531c7row1_col1\" class=\"data row1 col1\" >299</td>\n",
       "                        <td id=\"T_69f4672e_3477_11eb_b8d8_98fa9b3531c7row1_col2\" class=\"data row1 col2\" >244</td>\n",
       "                        <td id=\"T_69f4672e_3477_11eb_b8d8_98fa9b3531c7row1_col3\" class=\"data row1 col3\" >248</td>\n",
       "            </tr>\n",
       "    </tbody></table>"
      ],
      "text/plain": [
       "<pandas.io.formats.style.Styler at 0x25b73ed9988>"
      ]
     },
     "execution_count": 254,
     "metadata": {},
     "output_type": "execute_result"
    }
   ],
   "source": [
    "print(df_new[['likes_people']].value_counts().sort_values())\n",
    "\n",
    "orange = sns.light_palette(\"orange\", as_cmap=True)\n",
    "pd.crosstab(index=[df_new['likes_people']], columns=[df_new['sex'], df_new['neutered']]).style.background_gradient(cmap=orange)"
   ]
  },
  {
   "cell_type": "markdown",
   "metadata": {},
   "source": [
    "* The dataset is highly skewed with only 5 dogs out of 881 that dont like people.\n",
    "* This shows that shelter dogs generally like people irrespective of being neutered or not"
   ]
  },
  {
   "cell_type": "markdown",
   "metadata": {},
   "source": [
    "### Question 2: Do female dogs like and get along with people more than male dogs?"
   ]
  },
  {
   "cell_type": "code",
   "execution_count": 255,
   "metadata": {},
   "outputs": [],
   "source": [
    "def label_get_along (row):\n",
    "    if row['get_along_females']== 1 and row['get_along_males']  == 1 :\n",
    "        return 'both'\n",
    "    if row['get_along_females']== 0 and row['get_along_males']  == 1 :\n",
    "        return 'only males' \n",
    "    if row['get_along_females']== 1 and row['get_along_males']  == 0:\n",
    "        return 'only females' \n",
    "    if row['get_along_females']== 0 and row['get_along_males']  == 0:\n",
    "        return 'none'\n",
    "    \n",
    "df_new['get_along_people'] = df_new.apply (lambda row: label_get_along(row), axis=1)"
   ]
  },
  {
   "cell_type": "code",
   "execution_count": 256,
   "metadata": {},
   "outputs": [
    {
     "data": {
      "text/plain": [
       "<matplotlib.axes._subplots.AxesSubplot at 0x25b74500088>"
      ]
     },
     "execution_count": 256,
     "metadata": {},
     "output_type": "execute_result"
    },
    {
     "data": {
      "image/png": "[encoded data removed]",
      "text/plain": [
       "<Figure size 432x288 with 1 Axes>"
      ]
     },
     "metadata": {
      "needs_background": "light"
     },
     "output_type": "display_data"
    }
   ],
   "source": [
    "pd.crosstab(df_new['get_along_people'],df_new['sex']).plot.bar(color=('palegoldenrod','chocolate'))\n"
   ]
  },
  {
   "cell_type": "markdown",
   "metadata": {},
   "source": [
    "* From the plot its clear that majority of the dogs in the shelter get along well with humans,\n",
    "* There seems to be few male dogs, that prefer human females. This effect is less prominent vice versa (femal dogs prefering male humans).\n",
    "   This difference can also be due to the fact that there are around 100 more male dogs than female dogs in the shelter."
   ]
  },
  {
   "cell_type": "code",
   "execution_count": 257,
   "metadata": {},
   "outputs": [
    {
     "data": {
      "text/plain": [
       "male      496\n",
       "female    385\n",
       "Name: sex, dtype: int64"
      ]
     },
     "execution_count": 257,
     "metadata": {},
     "output_type": "execute_result"
    }
   ],
   "source": [
    "df_new['sex'].value_counts()"
   ]
  },
  {
   "cell_type": "markdown",
   "metadata": {},
   "source": [
    "### Question 3: Does coat of dog affect if its kept in or out\n",
    " No one wants dog hair all over the house :)"
   ]
  },
  {
   "cell_type": "code",
   "execution_count": 258,
   "metadata": {},
   "outputs": [
    {
     "data": {
      "text/html": [
       "<style  type=\"text/css\" >\n",
       "#T_6d00757a_3477_11eb_8429_98fa9b3531c7row0_col0{\n",
       "            background-color:  #ffcd72;\n",
       "            color:  #000000;\n",
       "        }#T_6d00757a_3477_11eb_8429_98fa9b3531c7row0_col1{\n",
       "            background-color:  #ffba3b;\n",
       "            color:  #000000;\n",
       "        }#T_6d00757a_3477_11eb_8429_98fa9b3531c7row0_col2,#T_6d00757a_3477_11eb_8429_98fa9b3531c7row0_col3,#T_6d00757a_3477_11eb_8429_98fa9b3531c7row0_col4,#T_6d00757a_3477_11eb_8429_98fa9b3531c7row0_col5,#T_6d00757a_3477_11eb_8429_98fa9b3531c7row0_col6,#T_6d00757a_3477_11eb_8429_98fa9b3531c7row0_col7,#T_6d00757a_3477_11eb_8429_98fa9b3531c7row0_col9,#T_6d00757a_3477_11eb_8429_98fa9b3531c7row0_col10,#T_6d00757a_3477_11eb_8429_98fa9b3531c7row0_col11,#T_6d00757a_3477_11eb_8429_98fa9b3531c7row1_col8,#T_6d00757a_3477_11eb_8429_98fa9b3531c7row2_col0,#T_6d00757a_3477_11eb_8429_98fa9b3531c7row2_col1,#T_6d00757a_3477_11eb_8429_98fa9b3531c7row2_col3{\n",
       "            background-color:  #ffa500;\n",
       "            color:  #000000;\n",
       "        }#T_6d00757a_3477_11eb_8429_98fa9b3531c7row0_col8,#T_6d00757a_3477_11eb_8429_98fa9b3531c7row1_col0,#T_6d00757a_3477_11eb_8429_98fa9b3531c7row1_col1,#T_6d00757a_3477_11eb_8429_98fa9b3531c7row1_col2,#T_6d00757a_3477_11eb_8429_98fa9b3531c7row1_col3,#T_6d00757a_3477_11eb_8429_98fa9b3531c7row1_col4,#T_6d00757a_3477_11eb_8429_98fa9b3531c7row1_col5,#T_6d00757a_3477_11eb_8429_98fa9b3531c7row1_col6,#T_6d00757a_3477_11eb_8429_98fa9b3531c7row1_col7,#T_6d00757a_3477_11eb_8429_98fa9b3531c7row2_col8,#T_6d00757a_3477_11eb_8429_98fa9b3531c7row2_col9,#T_6d00757a_3477_11eb_8429_98fa9b3531c7row2_col10,#T_6d00757a_3477_11eb_8429_98fa9b3531c7row2_col11{\n",
       "            background-color:  #fff6e5;\n",
       "            color:  #000000;\n",
       "        }#T_6d00757a_3477_11eb_8429_98fa9b3531c7row1_col9{\n",
       "            background-color:  #ffac13;\n",
       "            color:  #000000;\n",
       "        }#T_6d00757a_3477_11eb_8429_98fa9b3531c7row1_col10{\n",
       "            background-color:  #ffd88f;\n",
       "            color:  #000000;\n",
       "        }#T_6d00757a_3477_11eb_8429_98fa9b3531c7row1_col11{\n",
       "            background-color:  #ffebc5;\n",
       "            color:  #000000;\n",
       "        }#T_6d00757a_3477_11eb_8429_98fa9b3531c7row2_col2{\n",
       "            background-color:  #ffc864;\n",
       "            color:  #000000;\n",
       "        }#T_6d00757a_3477_11eb_8429_98fa9b3531c7row2_col4{\n",
       "            background-color:  #ffe7bc;\n",
       "            color:  #000000;\n",
       "        }#T_6d00757a_3477_11eb_8429_98fa9b3531c7row2_col5{\n",
       "            background-color:  #ffd382;\n",
       "            color:  #000000;\n",
       "        }#T_6d00757a_3477_11eb_8429_98fa9b3531c7row2_col6{\n",
       "            background-color:  #ffe7ba;\n",
       "            color:  #000000;\n",
       "        }#T_6d00757a_3477_11eb_8429_98fa9b3531c7row2_col7{\n",
       "            background-color:  #ffc252;\n",
       "            color:  #000000;\n",
       "        }</style><table id=\"T_6d00757a_3477_11eb_8429_98fa9b3531c7\" ><thead>    <tr>        <th class=\"index_name level0\" >size</th>        <th class=\"col_heading level0 col0\" colspan=4>large</th>        <th class=\"col_heading level0 col4\" colspan=4>medium</th>        <th class=\"col_heading level0 col8\" colspan=4>small</th>    </tr>    <tr>        <th class=\"index_name level1\" >coat</th>        <th class=\"col_heading level1 col0\" >long</th>        <th class=\"col_heading level1 col1\" >medium</th>        <th class=\"col_heading level1 col2\" >short</th>        <th class=\"col_heading level1 col3\" >wirehaired</th>        <th class=\"col_heading level1 col4\" >long</th>        <th class=\"col_heading level1 col5\" >medium</th>        <th class=\"col_heading level1 col6\" >short</th>        <th class=\"col_heading level1 col7\" >wirehaired</th>        <th class=\"col_heading level1 col8\" >long</th>        <th class=\"col_heading level1 col9\" >medium</th>        <th class=\"col_heading level1 col10\" >short</th>        <th class=\"col_heading level1 col11\" >wirehaired</th>    </tr>    <tr>        <th class=\"index_name level0\" >keep_in</th>        <th class=\"blank\" ></th>        <th class=\"blank\" ></th>        <th class=\"blank\" ></th>        <th class=\"blank\" ></th>        <th class=\"blank\" ></th>        <th class=\"blank\" ></th>        <th class=\"blank\" ></th>        <th class=\"blank\" ></th>        <th class=\"blank\" ></th>        <th class=\"blank\" ></th>        <th class=\"blank\" ></th>        <th class=\"blank\" ></th>    </tr></thead><tbody>\n",
       "                <tr>\n",
       "                        <th id=\"T_6d00757a_3477_11eb_8429_98fa9b3531c7level0_row0\" class=\"row_heading level0 row0\" >both flat and garden</th>\n",
       "                        <td id=\"T_6d00757a_3477_11eb_8429_98fa9b3531c7row0_col0\" class=\"data row0 col0\" >3</td>\n",
       "                        <td id=\"T_6d00757a_3477_11eb_8429_98fa9b3531c7row0_col1\" class=\"data row0 col1\" >17</td>\n",
       "                        <td id=\"T_6d00757a_3477_11eb_8429_98fa9b3531c7row0_col2\" class=\"data row0 col2\" >66</td>\n",
       "                        <td id=\"T_6d00757a_3477_11eb_8429_98fa9b3531c7row0_col3\" class=\"data row0 col3\" >2</td>\n",
       "                        <td id=\"T_6d00757a_3477_11eb_8429_98fa9b3531c7row0_col4\" class=\"data row0 col4\" >15</td>\n",
       "                        <td id=\"T_6d00757a_3477_11eb_8429_98fa9b3531c7row0_col5\" class=\"data row0 col5\" >56</td>\n",
       "                        <td id=\"T_6d00757a_3477_11eb_8429_98fa9b3531c7row0_col6\" class=\"data row0 col6\" >266</td>\n",
       "                        <td id=\"T_6d00757a_3477_11eb_8429_98fa9b3531c7row0_col7\" class=\"data row0 col7\" >29</td>\n",
       "                        <td id=\"T_6d00757a_3477_11eb_8429_98fa9b3531c7row0_col8\" class=\"data row0 col8\" >0</td>\n",
       "                        <td id=\"T_6d00757a_3477_11eb_8429_98fa9b3531c7row0_col9\" class=\"data row0 col9\" >14</td>\n",
       "                        <td id=\"T_6d00757a_3477_11eb_8429_98fa9b3531c7row0_col10\" class=\"data row0 col10\" >77</td>\n",
       "                        <td id=\"T_6d00757a_3477_11eb_8429_98fa9b3531c7row0_col11\" class=\"data row0 col11\" >15</td>\n",
       "            </tr>\n",
       "            <tr>\n",
       "                        <th id=\"T_6d00757a_3477_11eb_8429_98fa9b3531c7level0_row1\" class=\"row_heading level0 row1\" >flat</th>\n",
       "                        <td id=\"T_6d00757a_3477_11eb_8429_98fa9b3531c7row1_col0\" class=\"data row1 col0\" >0</td>\n",
       "                        <td id=\"T_6d00757a_3477_11eb_8429_98fa9b3531c7row1_col1\" class=\"data row1 col1\" >0</td>\n",
       "                        <td id=\"T_6d00757a_3477_11eb_8429_98fa9b3531c7row1_col2\" class=\"data row1 col2\" >2</td>\n",
       "                        <td id=\"T_6d00757a_3477_11eb_8429_98fa9b3531c7row1_col3\" class=\"data row1 col3\" >0</td>\n",
       "                        <td id=\"T_6d00757a_3477_11eb_8429_98fa9b3531c7row1_col4\" class=\"data row1 col4\" >4</td>\n",
       "                        <td id=\"T_6d00757a_3477_11eb_8429_98fa9b3531c7row1_col5\" class=\"data row1 col5\" >10</td>\n",
       "                        <td id=\"T_6d00757a_3477_11eb_8429_98fa9b3531c7row1_col6\" class=\"data row1 col6\" >36</td>\n",
       "                        <td id=\"T_6d00757a_3477_11eb_8429_98fa9b3531c7row1_col7\" class=\"data row1 col7\" >1</td>\n",
       "                        <td id=\"T_6d00757a_3477_11eb_8429_98fa9b3531c7row1_col8\" class=\"data row1 col8\" >3</td>\n",
       "                        <td id=\"T_6d00757a_3477_11eb_8429_98fa9b3531c7row1_col9\" class=\"data row1 col9\" >13</td>\n",
       "                        <td id=\"T_6d00757a_3477_11eb_8429_98fa9b3531c7row1_col10\" class=\"data row1 col10\" >34</td>\n",
       "                        <td id=\"T_6d00757a_3477_11eb_8429_98fa9b3531c7row1_col11\" class=\"data row1 col11\" >3</td>\n",
       "            </tr>\n",
       "            <tr>\n",
       "                        <th id=\"T_6d00757a_3477_11eb_8429_98fa9b3531c7level0_row2\" class=\"row_heading level0 row2\" >garden</th>\n",
       "                        <td id=\"T_6d00757a_3477_11eb_8429_98fa9b3531c7row2_col0\" class=\"data row2 col0\" >6</td>\n",
       "                        <td id=\"T_6d00757a_3477_11eb_8429_98fa9b3531c7row2_col1\" class=\"data row2 col1\" >23</td>\n",
       "                        <td id=\"T_6d00757a_3477_11eb_8429_98fa9b3531c7row2_col2\" class=\"data row2 col2\" >38</td>\n",
       "                        <td id=\"T_6d00757a_3477_11eb_8429_98fa9b3531c7row2_col3\" class=\"data row2 col3\" >2</td>\n",
       "                        <td id=\"T_6d00757a_3477_11eb_8429_98fa9b3531c7row2_col4\" class=\"data row2 col4\" >6</td>\n",
       "                        <td id=\"T_6d00757a_3477_11eb_8429_98fa9b3531c7row2_col5\" class=\"data row2 col5\" >30</td>\n",
       "                        <td id=\"T_6d00757a_3477_11eb_8429_98fa9b3531c7row2_col6\" class=\"data row2 col6\" >80</td>\n",
       "                        <td id=\"T_6d00757a_3477_11eb_8429_98fa9b3531c7row2_col7\" class=\"data row2 col7\" >19</td>\n",
       "                        <td id=\"T_6d00757a_3477_11eb_8429_98fa9b3531c7row2_col8\" class=\"data row2 col8\" >0</td>\n",
       "                        <td id=\"T_6d00757a_3477_11eb_8429_98fa9b3531c7row2_col9\" class=\"data row2 col9\" >2</td>\n",
       "                        <td id=\"T_6d00757a_3477_11eb_8429_98fa9b3531c7row2_col10\" class=\"data row2 col10\" >8</td>\n",
       "                        <td id=\"T_6d00757a_3477_11eb_8429_98fa9b3531c7row2_col11\" class=\"data row2 col11\" >1</td>\n",
       "            </tr>\n",
       "    </tbody></table>"
      ],
      "text/plain": [
       "<pandas.io.formats.style.Styler at 0x25b72b66bc8>"
      ]
     },
     "execution_count": 258,
     "metadata": {},
     "output_type": "execute_result"
    }
   ],
   "source": [
    "orange = sns.light_palette(\"orange\", as_cmap=True)\n",
    "pd.crosstab(index=[df_new['keep_in']], columns=[df_new['size'], df_new['coat']]).style.background_gradient(cmap=orange)"
   ]
  },
  {
   "cell_type": "markdown",
   "metadata": {},
   "source": [
    "* From the table its clear that majority of the shelter dogs can be kept in both flats or garden.\n",
    "* Its interesting to note that the size of dog is a more important factor in deciding where to keep it, rather than the coat length\n",
    "* That is fur shedding, which is more common in dogs with longer coats, does not seem to be a reason to keep dogs out"
   ]
  },
  {
   "cell_type": "markdown",
   "metadata": {},
   "source": [
    "### Question 4: Does the dog spend a lot of time in the shelter, before being ready for adoption\n",
    "Duration between date_found and date_posted"
   ]
  },
  {
   "cell_type": "code",
   "execution_count": 261,
   "metadata": {},
   "outputs": [
    {
     "data": {
      "text/plain": [
       "9         1 days\n",
       "13        1 days\n",
       "16        1 days\n",
       "17        4 days\n",
       "29        0 days\n",
       "          ...   \n",
       "2917   1574 days\n",
       "2919    843 days\n",
       "2925    181 days\n",
       "2932    818 days\n",
       "2936     89 days\n",
       "Name: date_diff, Length: 881, dtype: timedelta64[ns]"
      ]
     },
     "execution_count": 261,
     "metadata": {},
     "output_type": "execute_result"
    }
   ],
   "source": [
    "df_new['date_diff'] = df_new['posted'] -df_new['date_found']\n",
    "df_new['date_diff']"
   ]
  },
  {
   "cell_type": "code",
   "execution_count": 262,
   "metadata": {},
   "outputs": [
    {
     "data": {
      "text/plain": [
       "<matplotlib.axes._subplots.AxesSubplot at 0x25b740a8488>"
      ]
     },
     "execution_count": 262,
     "metadata": {},
     "output_type": "execute_result"
    },
    {
     "data": {
      "image/png": "[encoded data removed]",
      "text/plain": [
       "<Figure size 432x288 with 1 Axes>"
      ]
     },
     "metadata": {
      "needs_background": "light"
     },
     "output_type": "display_data"
    }
   ],
   "source": [
    "df_new['date_diff'].astype('timedelta64[M]').plot.hist()"
   ]
  },
  {
   "cell_type": "markdown",
   "metadata": {},
   "source": [
    "Most dogs are ready to be adopted within a year of comming to the shelter."
   ]
  },
  {
   "cell_type": "code",
   "execution_count": 263,
   "metadata": {},
   "outputs": [],
   "source": [
    "df_new['Months in shelter'] = df_new['date_diff'].astype('timedelta64[M]')"
   ]
  },
  {
   "cell_type": "code",
   "execution_count": 264,
   "metadata": {},
   "outputs": [
    {
     "data": {
      "image/png": "[encoded data removed]",
      "text/plain": [
       "<Figure size 1080x360 with 3 Axes>"
      ]
     },
     "metadata": {
      "needs_background": "light"
     },
     "output_type": "display_data"
    }
   ],
   "source": [
    "sns.catplot(kind=\"box\",data=df_new, x='sex',y='Months in shelter', col='size')\n",
    "plt.show()"
   ]
  },
  {
   "cell_type": "markdown",
   "metadata": {},
   "source": [
    "* Overall the size or sex of the dog doesent affect the speed at which its posted as ready to be adopted.\n",
    "* Large dogs seem to take slightly more time than others to become ready for adoption\n",
    "* There seem to be more outliers in medium sized dogs, where they take more time to be ready for adoption"
   ]
  }
 ],
 "metadata": {
  "kernelspec": {
   "display_name": "Python 3",
   "language": "python",
   "name": "python3"
  },
  "language_info": {
   "codemirror_mode": {
    "name": "ipython",
    "version": 3
   },
   "file_extension": ".py",
   "mimetype": "text/x-python",
   "name": "python",
   "nbconvert_exporter": "python",
   "pygments_lexer": "ipython3",
   "version": "3.7.4"
  }
 },
 "nbformat": 4,
 "nbformat_minor": 4
}
